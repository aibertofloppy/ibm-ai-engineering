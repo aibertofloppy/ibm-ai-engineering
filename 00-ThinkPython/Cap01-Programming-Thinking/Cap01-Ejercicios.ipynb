{
 "cells": [
  {
   "cell_type": "markdown",
   "metadata": {},
   "source": [
    "# Capítulo 1 – Programming as a way of thinking\n",
    "\n",
    "Este notebook contiene ejercicios básicos del Capítulo 1 del libro **Think Python 3e**.\n",
    "\n",
    "Objetivos:\n",
    "- Comprender qué es un programa y cómo se utiliza para pensar paso a paso.\n",
    "- Practicar impresión en pantalla (`print`) y operaciones aritméticas simples.\n",
    "- Resolver ejercicios iniciales del libro."
   ]
  },
  {
   "cell_type": "markdown",
   "metadata": {},
   "source": [
    "## Ejercicio 1: Imprimir un mensaje\n",
    "\n",
    "Escribe un programa que imprima `Hello, world` en pantalla."
   ]
  },
  {
   "cell_type": "code",
   "execution_count": null,
   "metadata": {},
   "outputs": [],
   "source": [
    "# Tu solución aquí\n",
    "print(\"Hello, world\")"
   ]
  },
  {
   "cell_type": "markdown",
   "metadata": {},
   "source": [
    "## Ejercicio 2: Calcular segundos totales\n",
    "\n",
    "Calcula el número total de segundos en **42 minutos y 42 segundos**."
   ]
  },
  {
   "cell_type": "code",
   "execution_count": null,
   "metadata": {},
   "outputs": [],
   "source": [
    "# 42 minutos * 60 + 42 segundos\n",
    "segundos = 42 * 60 + 42\n",
    "print(\"Total de segundos:\", segundos)"
   ]
  },
  {
   "cell_type": "markdown",
   "metadata": {},
   "source": [
    "## Ejercicio 3: Convertir kilómetros a millas\n",
    "\n",
    "Convierte **10 kilómetros** a millas (1 milla = 1.61 km)."
   ]
  },
  {
   "cell_type": "code",
   "execution_count": null,
   "metadata": {},
   "outputs": [],
   "source": [
    "kilometros = 10\n",
    "millas = kilometros / 1.61\n",
    "print(\"10 km son\", millas, \"millas\")"
   ]
  },
  {
   "cell_type": "markdown",
   "metadata": {},
   "source": [
    "## Ejercicio 4: Operaciones básicas\n",
    "\n",
    "Prueba otras operaciones matemáticas simples (suma, resta, multiplicación, división) y observa los resultados."
   ]
  },
  {
   "cell_type": "code",
   "execution_count": null,
   "metadata": {},
   "outputs": [],
   "source": [
    "# Ejemplos\n",
    "print(5 + 3)\n",
    "print(10 - 2)\n",
    "print(4 * 2)\n",
    "print(20 / 5)"
   ]
  }
 ],
 "metadata": {
  "kernelspec": {
   "display_name": "Python 3",
   "language": "python",
   "name": "python3"
  },
  "language_info": {
   "codemirror_mode": {
    "name": "ipython",
    "version": 3
   },
   "file_extension": ".py",
   "mimetype": "text/x-python",
   "name": "python",
   "nbconvert_exporter": "python",
   "pygments_lexer": "ipython3",
   "version": "3.11"
  }
 },
 "nbformat": 4,
 "nbformat_minor": 5
}